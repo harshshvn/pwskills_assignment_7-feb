{
 "cells": [
  {
   "cell_type": "markdown",
   "id": "cc895147-65e7-41d6-a6d4-172d074b918e",
   "metadata": {},
   "source": [
    " Q1\n",
    " "
   ]
  },
  {
   "cell_type": "code",
   "execution_count": 9,
   "id": "be092b12-90b9-4eb0-ae48-1c8dd702e5d1",
   "metadata": {},
   "outputs": [
    {
     "name": "stdin",
     "output_type": "stream",
     "text": [
      "Enter the password hH*^\n"
     ]
    },
    {
     "data": {
      "text/plain": [
       "'invalid password'"
      ]
     },
     "execution_count": 9,
     "metadata": {},
     "output_type": "execute_result"
    }
   ],
   "source": [
    "def pass_test():\n",
    "    c_uppercase=0\n",
    "    c_lowercase=0\n",
    "    c_number=0\n",
    "    c_specialchar=0\n",
    "    password=input(\"Enter the password\")\n",
    "    if len(password)>9:\n",
    "        for i in password:\n",
    "            if ord(i)>96 and ord(i)<123:\n",
    "                c_lowercase+=1\n",
    "            elif ord(i)>64 and ord(i)<91:\n",
    "                c_uppercase+=1\n",
    "            elif ord(i)>48 and ord(i)<58:\n",
    "                c_number+=1\n",
    "            else:\n",
    "                c_specialchar+=1\n",
    "    if c_lowercase>1 and c_uppercase>1 and c_number>0 and c_specialchar>2:\n",
    "        return \"valid password\"\n",
    "    else:\n",
    "        return \"invalid password\"\n",
    "pass_test()\n",
    "    \n",
    "        \n",
    "        "
   ]
  },
  {
   "cell_type": "markdown",
   "id": "f1b7ce96-154c-48e6-9653-9da0949d5d8e",
   "metadata": {},
   "source": [
    "Q2"
   ]
  },
  {
   "cell_type": "markdown",
   "id": "e378d020-d525-44d2-a9df-6d57284e477a",
   "metadata": {},
   "source": [
    "First part\n"
   ]
  },
  {
   "cell_type": "code",
   "execution_count": 37,
   "id": "9297248d-62d4-429c-a582-7c423214a40a",
   "metadata": {},
   "outputs": [
    {
     "data": {
      "text/plain": [
       "True"
      ]
     },
     "execution_count": 37,
     "metadata": {},
     "output_type": "execute_result"
    }
   ],
   "source": [
    "a=lambda x,y:x.startswith(y)\n",
    "a(\"harsh\",'h')"
   ]
  },
  {
   "cell_type": "markdown",
   "id": "65b6c0a5-0dde-4cd9-8c9a-4f6e1621469d",
   "metadata": {},
   "source": [
    "second part\n"
   ]
  },
  {
   "cell_type": "code",
   "execution_count": 16,
   "id": "cd267a39-3de2-4059-b1e7-ac5c3a33abd4",
   "metadata": {},
   "outputs": [
    {
     "data": {
      "text/plain": [
       "[True, True, True, True]"
      ]
     },
     "execution_count": 16,
     "metadata": {},
     "output_type": "execute_result"
    }
   ],
   "source": [
    "value=\"1245\"\n",
    "def test1(x):\n",
    "    if ord(x)>47 and ord(x)<57:\n",
    "        return True\n",
    "list(map(test1,value))"
   ]
  },
  {
   "cell_type": "markdown",
   "id": "9566eff9-7dc0-4c1e-86d2-b43a422bedc9",
   "metadata": {},
   "source": [
    "Third Part"
   ]
  },
  {
   "cell_type": "code",
   "execution_count": 38,
   "id": "ec498fb7-fca2-48c4-b4f5-14a73688f8eb",
   "metadata": {},
   "outputs": [
    {
     "data": {
      "text/plain": [
       "[('orange', 80), ('mango', 99), ('grapes', 1000)]"
      ]
     },
     "execution_count": 38,
     "metadata": {},
     "output_type": "execute_result"
    }
   ],
   "source": [
    "l1=[(\"mango\",99),(\"orange\",80),(\"grapes\",1000)]\n",
    "def test(l1):\n",
    "    return(sorted(l1,key=lambda x:x[1]))\n",
    "test(l1)"
   ]
  },
  {
   "cell_type": "markdown",
   "id": "35683071-4ec8-4616-86f6-d69c8a71b4d7",
   "metadata": {},
   "source": [
    "fourth part\n"
   ]
  },
  {
   "cell_type": "code",
   "execution_count": 18,
   "id": "a6831512-f260-49c8-8fce-d3b146043467",
   "metadata": {},
   "outputs": [
    {
     "data": {
      "text/plain": [
       "[1, 4, 9, 16, 25, 36, 49, 64, 81, 100]"
      ]
     },
     "execution_count": 18,
     "metadata": {},
     "output_type": "execute_result"
    }
   ],
   "source": [
    "l1=[1,2,3,4,5,6,7,8,9,10]\n",
    "list(map(lambda x:x*x,l1))"
   ]
  },
  {
   "cell_type": "markdown",
   "id": "f13cf216-0037-452a-83bb-9c843e24a863",
   "metadata": {},
   "source": [
    "fifth part"
   ]
  },
  {
   "cell_type": "code",
   "execution_count": 20,
   "id": "42025719-5744-4017-b983-0a793b97e4b4",
   "metadata": {},
   "outputs": [
    {
     "data": {
      "text/plain": [
       "[1.0,\n",
       " 1.2599210498948732,\n",
       " 1.4422495703074083,\n",
       " 1.5874010519681994,\n",
       " 1.7099759466766968,\n",
       " 1.8171205928321397,\n",
       " 1.912931182772389,\n",
       " 2.0,\n",
       " 2.080083823051904,\n",
       " 2.154434690031884]"
      ]
     },
     "execution_count": 20,
     "metadata": {},
     "output_type": "execute_result"
    }
   ],
   "source": [
    "l1=[1,2,3,4,5,6,7,8,9,10]\n",
    "list(map(lambda x:x**(1/3),l1))"
   ]
  },
  {
   "cell_type": "markdown",
   "id": "c25b7af2-fea4-4a18-acd3-ac2197994f6d",
   "metadata": {},
   "source": [
    "sixth part"
   ]
  },
  {
   "cell_type": "code",
   "execution_count": 44,
   "id": "d40b36b7-6a48-42ed-a48a-2e64a9bb4001",
   "metadata": {},
   "outputs": [
    {
     "name": "stdout",
     "output_type": "stream",
     "text": [
      "even\n"
     ]
    },
    {
     "data": {
      "text/plain": [
       "False"
      ]
     },
     "execution_count": 44,
     "metadata": {},
     "output_type": "execute_result"
    }
   ],
   "source": [
    "a=lambda x:x%2==0\n",
    "if a:\n",
    "    print(\"even\")\n",
    "else:\n",
    "    print(\"odd\")\n",
    "a(7)\n",
    "\n",
    "      "
   ]
  },
  {
   "cell_type": "markdown",
   "id": "ea22e3b1-630b-4fcd-a94d-b4141ce2d95d",
   "metadata": {},
   "source": [
    "seventh part\n"
   ]
  },
  {
   "cell_type": "code",
   "execution_count": 29,
   "id": "27f05013-93ea-4043-a20d-3a91dacf9e4d",
   "metadata": {},
   "outputs": [
    {
     "data": {
      "text/plain": [
       "[1, 3, 5, 7, 9]"
      ]
     },
     "execution_count": 29,
     "metadata": {},
     "output_type": "execute_result"
    }
   ],
   "source": [
    "l1=[1,2,3,4,5,6,7,8,9,10]\n",
    "list(filter(lambda x:x%2!=0,l1))"
   ]
  },
  {
   "cell_type": "markdown",
   "id": "1e09d0f4-bb7b-4f0f-a9d4-732f7b49130f",
   "metadata": {},
   "source": [
    "eight part"
   ]
  },
  {
   "cell_type": "code",
   "execution_count": 42,
   "id": "01d15a22-8eb3-4506-984a-95d720e802cf",
   "metadata": {},
   "outputs": [
    {
     "name": "stdout",
     "output_type": "stream",
     "text": [
      "[-1, -2, -3, -4, -5]\n",
      "[1, 2, 3, 4, 5, 6, 0]\n"
     ]
    }
   ],
   "source": [
    "number=[1,2,3,4,5,6,-1,-2,-3,-4,-5,0]\n",
    "neg=list(filter(lambda x:x<0,number))\n",
    "pos=list(filter(lambda x:x>-1,number))\n",
    "print(neg)\n",
    "print(pos)"
   ]
  },
  {
   "cell_type": "code",
   "execution_count": null,
   "id": "41d76d08-55bb-4905-8b2c-ce377cb0535a",
   "metadata": {},
   "outputs": [],
   "source": []
  }
 ],
 "metadata": {
  "kernelspec": {
   "display_name": "Python 3 (ipykernel)",
   "language": "python",
   "name": "python3"
  },
  "language_info": {
   "codemirror_mode": {
    "name": "ipython",
    "version": 3
   },
   "file_extension": ".py",
   "mimetype": "text/x-python",
   "name": "python",
   "nbconvert_exporter": "python",
   "pygments_lexer": "ipython3",
   "version": "3.10.8"
  }
 },
 "nbformat": 4,
 "nbformat_minor": 5
}
